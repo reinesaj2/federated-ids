{
  "cells": [
    {
      "cell_type": "markdown",
      "metadata": {},
      "source": [
        "# Performance Overview\n",
        "This notebook cross-references the committed experiment artifacts that feed into `PERFORMANCE_COMPARISON_TABLES.md`.\n",
        "All data lives in the repository so the notebook remains reproducible offline."
      ]
    },
    {
      "cell_type": "code",
      "execution_count": null,
      "metadata": {},
      "outputs": [],
      "source": [
        "from pathlib import Path\n",
        "import csv, json\n",
        "\n",
        "ROOT = Path('..').resolve().parents[0]\n",
        "attack_csv = ROOT / 'results' / 'comparative_analysis' / 'attack_resilience_stats.csv'\n",
        "privacy_csv = ROOT / 'results' / 'privacy_check' / 'privacy_utility_curve.csv'\n",
        "personalization_json = ROOT / 'analysis' / 'personalization' / 'personalization_summary.json'\n",
        "fedprox_json = ROOT / 'analysis' / 'fedprox_nightly' / 'fedprox_comparison_summary.json'\n",
        "\n",
        "def load_attack():\n",
        "    with attack_csv.open() as handle:\n",
        "        return list(csv.DictReader(handle))\n",
        "\n",
        "def load_privacy():\n",
        "    with privacy_csv.open() as handle:\n",
        "        return list(csv.DictReader(handle))\n",
        "\n",
        "attack_rows = load_attack()\n",
        "privacy_rows = load_privacy()\n",
        "personalization = json.loads(personalization_json.read_text())\n",
        "fedprox = json.loads(fedprox_json.read_text())\n",
        "\n",
        "print('Attack resilience sample (f=30% rows):')\n",
        "for row in attack_rows:\n",
        "    if row['adversary_fraction'] == '0.3':\n",
        "        print('  ', row['aggregation'], 'macro_f1_mean:', row['macro_f1_mean'], 'drop_pct:', row['degradation_pct'])\n",
        "\n",
        "print('\nPersonalization mean gain:', personalization['overall']['mean_gain'])\n",
        "print('FedAvg vs FedProx improvement keys:', sorted(fedprox['raw_analysis_results']['improvement_ratios'].keys())[:3], '...')\n",
        "print('Privacy utility entries:', privacy_rows)\n"
      ]
    },
    {
      "cell_type": "markdown",
      "metadata": {},
      "source": [
        "Refer to `../../PERFORMANCE_COMPARISON_TABLES.md` for the rendered tables."
      ]
    }
  ],
  "metadata": {
    "kernelspec": {
      "display_name": "Python 3",
      "language": "python",
      "name": "python3"
    },
    "language_info": {
      "name": "python",
      "pygments_lexer": "ipython3"
    }
  },
  "nbformat": 4,
  "nbformat_minor": 5
}